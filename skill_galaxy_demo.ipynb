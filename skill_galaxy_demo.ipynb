{
 "cells": [
  {
   "cell_type": "code",
   "execution_count": 3,
   "id": "92247e56",
   "metadata": {},
   "outputs": [
    {
     "data": {
      "text/html": [
       "<script>window.__skillGalaxyLabels = ['analysis skills', 'business requirements', 'microsoft word', 'business analysis', 'microsoft excel', 'project management', 'statistics', 'microsoft office', 'communication skills', 'data analysis skills', 'sql', 'tableau', 'power bi', 'microsoft powerpoint', 'writing skills', 'sharepoint', 'management', 'analytics', 'ai', 'banking', 'financial analysis', 'budgeting', 'json', 'javascript', 'data visualization', 'web analytics', 'python', 'data governance', 'manufacturing', 'crm software', 'computer science', 'fraud prevention and detection', 'r', 'quantitative analysis', 'data manipulation', 'etl', 'data analytics', 'leadership', 'database design', 'oracle', 'databases', 'erp systems', 'agile', 'attention to detail', 'presentation skills', 'negotiation', 'sas', 'relational databases', 'microsoft access', 'ssrs', 'spark', 'microsoft outlook', 'slack', 'snowflake', 'it', 'organizational skills', 'pl/sql', 'db2', 'postgresql', 'research', 'data mining', 'microsoft sql server', 'medicare', 'looker', 'looker studio', 'visio', 'pivot tables', 'contracts', 'macros', 'requirements gathering', 'confluence', 'jira', 'sdlc', 'redshift', 'time management', 'restful api', 'xml', 'marketing', 'workday', 'informatica', 'talend', 'machine learning', 'vba', 'data science', 'sales', 'data modeling', 'technical writing', 'scrum', 'software development', 'business development', 'computer skills', 'unix', 'data transformation', 'system administration', 'accounting', 'azure', 'devops', 'aws', 'customer service', 'hipaa', 'scripting', 'requirements analysis', 'big data', 'gaap', 'financial report writing', 'systems analysis', 'application development', 'stakeholder management', 'microsoft project', 'spss', 'sql server management studio', 'business intelligence', 'project leadership', 'cybersecurity', 't-sql', 'requirements management', 'continuous improvement', 'financial modeling', 'java', 'data warehouse', 'google cloud platform', 'google suite', '.net', 'apis', 'productivity software', 'html', 'visual basic', 'math', 'database management', 'search engines', 'seo', 'pricing', 'servicenow', 'cognos', 'data management', 'forecasting', 'financial statement preparation', 'git', 'mysql', 'c#', 'visual studio', 'data structures', 'databricks', 'trading', 'salesforce', 'nist standards', 'information security', 'cloud security', 'jd edwards', 'waterfall', 'data collection', 'ssis', 'powershell', 'nosql', 'c++', 'windows', 'microsoft windows server', 'dax', 'data pipelines', 'operating systems', 'peoplesoft', 'process engineering', 'statistical software', 'arcgis', 'c', 'process improvement', 'hr systems', 'financial services', 'rdbms', 'team management', 'react', 'intelligence analysis', 'nielsen', 'sox', 'sap', 'abap', 'sap businessobjects', 'debugging', 'data lake', 'system architecture', 'hris', 'human resources', 'oil & gas', 'interpersonal skills', 'master data management', '10 key typing', 'linux', 'inventory control', 'adobe acrobat', 'computer networking', 'dns', 'tcp', 'tcp/ip', 'supervising experience', 'software deployment', 'business process modeling', 'basic math', 'matlab', 'stata', 'statistical analysis', 'test automation', 'pmp', 'product management', 'saas', 'selenium', 'program management', 'teradata', 's3', 'kafka', 'github', 'ci/cd', 'docker', 'report writing', 'payroll', 'sql databases', 'generative ai', 'underwriting', 'data entry', 'spring framework', 'computer literacy', 'full-stack development', 'presentation creation', 'project management methodology', 'adobe illustrator', 'adobe photoshop', 'adobe indesign', 'soap', 'rest', 'teamwork', 'editing', 'ehr systems', 'cloud architecture', 'enterprise software', 'marketing analytics', 'epic', 'financial concepts', 'css', 'shell scripting', 'corporate finance', 'project implementation', 'public speaking', 'earned value management', 'mentoring', 'google analytics', 'google tag manager', 'adobe creative suite', 'financial planning', 'client services', 'outpatient', 'typing', 'ab initio', 'cost accounting', 'lending', 'financial acumen', 'call center', 'cpt coding', 'tax experience', 'hyperion', 'credit analysis', 'valuation', 'b2b', 'laboratory experience', 'risk management', 'spring boot', 'jquery', 'filing', 'scala', 'digital marketing', 'asp.net', 'web services', 'product marketing', 'a/b testing', 'apache hive', 'natural language processing', 'edi', 'hibernate', 'j2ee', 'social media management', 'financial software', 'quickbooks', 'siem', 'mac os', 'software troubleshooting', 'active directory', 'ldap', 'bloomberg', 'bootstrap', 'azure data factory', 'angular', 'performance tuning', 'ubuntu', 'kubernetes', 'centos', 'obiee', 'azure data lake', 'cloud development', 'typescript', 'apache', 'yaml', 'gitlab', 'ui', 'web development', 'direct sales', 'proofreading', 'strategic partnerships', 'relationship management'];</script>\n",
       "    <script>\n",
       "    (function() {\n",
       "        let tooltip = document.createElement('div');\n",
       "        tooltip.style.position = 'fixed';\n",
       "        tooltip.style.background = '#333';\n",
       "        tooltip.style.color = '#fff';\n",
       "        tooltip.style.padding = '4px 8px';\n",
       "        tooltip.style.borderRadius = '4px';\n",
       "        tooltip.style.fontFamily = 'monospace';\n",
       "        tooltip.style.fontSize = '12px';\n",
       "        tooltip.style.pointerEvents = 'none';\n",
       "        tooltip.style.display = 'none';\n",
       "        tooltip.style.zIndex = 10000;\n",
       "        document.body.appendChild(tooltip);\n",
       "\n",
       "        let canvas = document.querySelector(\"#skillgalaxy-5081c4e1-3d6d-43ff-bcef-05cc18852cf1 canvas\");\n",
       "        if (!canvas) return;\n",
       "\n",
       "        canvas.addEventListener('mousemove', function(e) {\n",
       "            let label = window.__skillGalaxyLabels?.[Math.floor(Math.random() * 306)];\n",
       "            tooltip.innerText = label || '';\n",
       "            tooltip.style.left = (e.clientX + 10) + 'px';\n",
       "            tooltip.style.top = (e.clientY + 10) + 'px';\n",
       "            tooltip.style.display = label ? 'block' : 'none';\n",
       "        });\n",
       "        canvas.addEventListener('mouseleave', function() {\n",
       "            tooltip.style.display = 'none';\n",
       "        });\n",
       "    })();\n",
       "    </script>\n",
       "    "
      ],
      "text/plain": [
       "<IPython.core.display.HTML object>"
      ]
     },
     "metadata": {},
     "output_type": "display_data"
    },
    {
     "data": {
      "application/vnd.jupyter.widget-view+json": {
       "model_id": "19ebdbd6d6b14a878d2cf525d6292810",
       "version_major": 2,
       "version_minor": 0
      },
      "text/plain": [
       "Renderer(camera=PerspectiveCamera(fov=70.0, position=(0.0, 0.0, 4.0), projectionMatrix=(1.0, 0.0, 0.0, 0.0, 0.…"
      ]
     },
     "metadata": {},
     "output_type": "display_data"
    }
   ],
   "source": [
    "from data_loader import load_job_skill_map\n",
    "from charts.skill_galaxy_orbit import launch_skill_galaxy_orbit\n",
    "\n",
    "job_skill_map, _ = load_job_skill_map()\n",
    "launch_skill_galaxy_orbit(job_skill_map)\n",
    "\n"
   ]
  },
  {
   "cell_type": "code",
   "execution_count": null,
   "id": "8df2cd9c-17c6-41ec-acca-4eaa6fe9feba",
   "metadata": {},
   "outputs": [],
   "source": []
  }
 ],
 "metadata": {
  "kernelspec": {
   "display_name": "Python 3 (ipykernel)",
   "language": "python",
   "name": "python3"
  },
  "language_info": {
   "codemirror_mode": {
    "name": "ipython",
    "version": 3
   },
   "file_extension": ".py",
   "mimetype": "text/x-python",
   "name": "python",
   "nbconvert_exporter": "python",
   "pygments_lexer": "ipython3",
   "version": "3.13.3"
  }
 },
 "nbformat": 4,
 "nbformat_minor": 5
}
